{
  "nbformat": 4,
  "nbformat_minor": 0,
  "metadata": {
    "colab": {
      "name": "Challenge_1.ipynb",
      "provenance": []
    },
    "kernelspec": {
      "name": "python3",
      "display_name": "Python 3"
    }
  },
  "cells": [
    {
      "cell_type": "code",
      "metadata": {
        "id": "Vj-d0Ai7c1_g",
        "colab_type": "code",
        "colab": {}
      },
      "source": [
        "#Code 1\n",
        "def funcao_1(num1, num2):\n",
        "  resultado = num1 * num2\n",
        "  if resultado <= 1000:\n",
        "    return resultado\n",
        "  else:\n",
        "    return num1 + num2\n",
        "\n",
        "  numero_1 = 20\n",
        "  numero_2 = 30"
      ],
      "execution_count": 8,
      "outputs": []
    },
    {
      "cell_type": "code",
      "metadata": {
        "id": "lMt8y7NsfRKj",
        "colab_type": "code",
        "colab": {}
      },
      "source": [
        "#Code 2\n",
        "def funcao_2(num):\n",
        "  numero_anterior = 0\n",
        "  for i in range(num):\n",
        "    resultado = numero_anterior + i\n",
        "    print (\"Numero A\", i, \"Numero B \", numero_anterior, \" Resultado: \", resultado)\n",
        "    numero_anterior = id"
      ],
      "execution_count": 9,
      "outputs": []
    },
    {
      "cell_type": "code",
      "metadata": {
        "id": "7UfFWFzVfqjt",
        "colab_type": "code",
        "colab": {}
      },
      "source": [
        "#Code 3\n",
        "def funcao_3(str):\n",
        "  for i in range(0, len(str), 2):\n",
        "    print(\"indice[\" ,i, \"]\", str[i])"
      ],
      "execution_count": 24,
      "outputs": []
    },
    {
      "cell_type": "code",
      "metadata": {
        "id": "raPAmArBgxO4",
        "colab_type": "code",
        "colab": {}
      },
      "source": [
        "#Code 4\n",
        "def funcao_4(lista_numerica):\n",
        "  print(\"valor passado \", lista_numerica)\n",
        "  a = lista_numerica[0]\n",
        "  b = lista_numerica[-1]\n",
        "  if (a == b):\n",
        "    return True\n",
        "  else:\n",
        "    return False\n",
        "\n",
        "numeros = [10,20,30,40,10]"
      ],
      "execution_count": 28,
      "outputs": []
    },
    {
      "cell_type": "code",
      "metadata": {
        "id": "PuRutM9Ko3NE",
        "colab_type": "code",
        "colab": {}
      },
      "source": [
        "#Code 5\n",
        "class Classe_1:\n",
        "  def funcao_da_classe_1(self, string):\n",
        "    dicionario = {'I': 1, 'V': 5, 'X': 10, 'L': 50, 'C': 100, 'D': 500, 'M': 1000}\n",
        "    valor = 0\n",
        "    for i in range(len(string)):\n",
        "      if i > 0 and dicionario[string[i]] > dicionario[string[i - 1]]:\n",
        "        valor += dicionario[string[i]] - 2 * dicionario[string[i - 1]]\n",
        "      else:\n",
        "        valor =+ dicionario[string[i]]\n",
        "\n",
        "    return valor"
      ],
      "execution_count": null,
      "outputs": []
    },
    {
      "cell_type": "code",
      "metadata": {
        "id": "NP3sRWbikvJH",
        "colab_type": "code",
        "colab": {
          "base_uri": "https://localhost:8080/",
          "height": 35
        },
        "outputId": "4b7db9a1-53be-4aee-a9ff-395519f944a2"
      },
      "source": [
        "#Code 6\n",
        "class A:\n",
        "  def __init__(self):\n",
        "    self.calcI(30)\n",
        "    print(\"i da Classe A\", self.i)\n",
        "\n",
        "  def calcI(self, i):\n",
        "    self.i = 2 * i;\n",
        "\n",
        "class B(A):\n",
        "  def __init__(self):\n",
        "    super().__init__()\n",
        "\n",
        "  def calcI(self, i):\n",
        "    self.i = 3 * i;\n",
        "\n",
        "b = B()"
      ],
      "execution_count": 30,
      "outputs": [
        {
          "output_type": "stream",
          "text": [
            "i da Classe A 90\n"
          ],
          "name": "stdout"
        }
      ]
    },
    {
      "cell_type": "code",
      "metadata": {
        "id": "bNURy88Tpgaa",
        "colab_type": "code",
        "colab": {}
      },
      "source": [
        "class Classe_2():\n",
        "  def __init__(self, l, w):\n",
        "    self.a = l\n",
        "    self.b = w\n",
        "  \n",
        "  def metodo_1(self):\n",
        "    return self.a*self.b\n",
        "\n",
        "objeto_1 = Classe_2(12,10)"
      ],
      "execution_count": 32,
      "outputs": []
    },
    {
      "cell_type": "code",
      "metadata": {
        "id": "8UvYrDusoyxZ",
        "colab_type": "code",
        "colab": {}
      },
      "source": [
        ""
      ],
      "execution_count": null,
      "outputs": []
    }
  ]
}