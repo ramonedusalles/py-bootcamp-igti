{
  "nbformat": 4,
  "nbformat_minor": 0,
  "metadata": {
    "colab": {
      "name": "Challenge_2.ipynb",
      "provenance": [],
      "authorship_tag": "ABX9TyOmVcooToiVOBr+lW/kS6II"
    },
    "kernelspec": {
      "name": "python3",
      "display_name": "Python 3"
    }
  },
  "cells": [
    {
      "cell_type": "code",
      "metadata": {
        "id": "i6mzf7Lwf3B7",
        "colab_type": "code",
        "colab": {}
      },
      "source": [
        "import numpy as np\n",
        "import pandas as pd"
      ],
      "execution_count": 1,
      "outputs": []
    },
    {
      "cell_type": "code",
      "metadata": {
        "id": "CMtI-Yflf8rb",
        "colab_type": "code",
        "colab": {
          "base_uri": "https://localhost:8080/",
          "height": 35
        },
        "outputId": "262ff828-b44d-477d-afbb-5fef340d2f34"
      },
      "source": [
        "#creates array filled with zeros and with 4 colums\n",
        "Z = np.zeros((4, ))\n",
        "print(\"Z :\", Z)"
      ],
      "execution_count": 2,
      "outputs": [
        {
          "output_type": "stream",
          "text": [
            "Z : [0. 0. 0. 0.]\n"
          ],
          "name": "stdout"
        }
      ]
    },
    {
      "cell_type": "code",
      "metadata": {
        "id": "rYI176kZgHpl",
        "colab_type": "code",
        "colab": {
          "base_uri": "https://localhost:8080/",
          "height": 35
        },
        "outputId": "5de22790-2a63-4a24-e832-2727fe3a5e1d"
      },
      "source": [
        "#creates array with 4 colums, filled with zeros. Changes variable Z index 1 value from 0 to 1.\n",
        "\n",
        "Z = np.zeros((4, ))\n",
        "Z[1]=1\n",
        "print(\"Z :\", Z)"
      ],
      "execution_count": 3,
      "outputs": [
        {
          "output_type": "stream",
          "text": [
            "Z : [0. 1. 0. 0.]\n"
          ],
          "name": "stdout"
        }
      ]
    },
    {
      "cell_type": "code",
      "metadata": {
        "id": "7Og5XNL1gZqF",
        "colab_type": "code",
        "colab": {
          "base_uri": "https://localhost:8080/",
          "height": 35
        },
        "outputId": "0fef9b4e-29ab-42b7-a0eb-9ea2899a1411"
      },
      "source": [
        "#creates array with 4 colums filled with ones. Changes variable Z index 3 value from 1 to 0.\n",
        "Z = np.ones((4, ))\n",
        "Z[3]=0\n",
        "print(\"Z :\", Z)"
      ],
      "execution_count": 4,
      "outputs": [
        {
          "output_type": "stream",
          "text": [
            "Z : [1. 1. 1. 0.]\n"
          ],
          "name": "stdout"
        }
      ]
    },
    {
      "cell_type": "code",
      "metadata": {
        "id": "5Gr2sMGcge6y",
        "colab_type": "code",
        "colab": {
          "base_uri": "https://localhost:8080/",
          "height": 35
        },
        "outputId": "9784dd63-475b-49ad-8732-9352b91bd765"
      },
      "source": [
        "#creates arrat with 4 colums filled with 2s.\n",
        "Z = 2 * np.ones((4, ))\n",
        "print(\"Z :\", Z)"
      ],
      "execution_count": 8,
      "outputs": [
        {
          "output_type": "stream",
          "text": [
            "Z : [2. 2. 2. 2.]\n"
          ],
          "name": "stdout"
        }
      ]
    },
    {
      "cell_type": "code",
      "metadata": {
        "id": "bexF1xIdg4_I",
        "colab_type": "code",
        "colab": {
          "base_uri": "https://localhost:8080/",
          "height": 54
        },
        "outputId": "ce46cd60-c265-454d-c9fd-c80b25d90843"
      },
      "source": [
        "X = np.array([[1,2],[3,4]])\n",
        "Y = X[0, :]\n",
        "Y[1] = 10\n",
        "print (X)"
      ],
      "execution_count": 11,
      "outputs": [
        {
          "output_type": "stream",
          "text": [
            "[[ 1 10]\n",
            " [ 3  4]]\n"
          ],
          "name": "stdout"
        }
      ]
    },
    {
      "cell_type": "code",
      "metadata": {
        "id": "afij8HopihPz",
        "colab_type": "code",
        "colab": {
          "base_uri": "https://localhost:8080/",
          "height": 35
        },
        "outputId": "6595400c-8c49-440a-e126-8b02f967728b"
      },
      "source": [
        "X = np.array([[1,3],[11,10]])\n",
        "print(np.mean(X[X > np.pi]))"
      ],
      "execution_count": 12,
      "outputs": [
        {
          "output_type": "stream",
          "text": [
            "10.5\n"
          ],
          "name": "stdout"
        }
      ]
    },
    {
      "cell_type": "code",
      "metadata": {
        "id": "UY_H3s6-i9UC",
        "colab_type": "code",
        "colab": {}
      },
      "source": [
        "data = {'animal' : ['cat', 'cat', 'snake', 'dog', 'dog', 'cat', 'snake', 'cat', 'dog', 'dog'], \n",
        "        'age' : [2.5, 3, 0.5, np.nan, 5, 2, 4.5, np.nan, 7, 3],\n",
        "        'visits' : [1, 3, 2, 3, 2, 3, 1, 1, 2, 1],\n",
        "        'priority' : ['yes', 'yes', 'no', 'yes', 'no', 'no', 'no', 'yes', 'no', 'no']}\n",
        "\n",
        "labels = ['a', 'b', 'c', 'd', 'e', 'f', 'g', 'h', 'i', 'j']"
      ],
      "execution_count": 13,
      "outputs": []
    },
    {
      "cell_type": "code",
      "metadata": {
        "id": "ECXNDRRAjTcc",
        "colab_type": "code",
        "colab": {}
      },
      "source": [
        ""
      ],
      "execution_count": null,
      "outputs": []
    }
  ]
}